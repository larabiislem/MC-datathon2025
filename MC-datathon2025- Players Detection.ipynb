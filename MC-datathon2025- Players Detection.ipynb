{
 "cells": [
  {
   "cell_type": "code",
   "execution_count": null,
   "id": "f8cae147",
   "metadata": {
    "vscode": {
     "languageId": "plaintext"
    }
   },
   "outputs": [],
   "source": [
    "\n",
    "import pandas as pd\n",
    "from ultralytics import YOLO\n",
    "from tqdm import tqdm\n",
    "\n",
    "df = pd.read_csv('./images_test.csv')\n",
    "model = YOLO('yolov8m.pt')\n",
    "\n",
    "def get_prediction_string(image_path):\n",
    "    results = model.predict(source=image_path, conf=0.5, show=False)\n",
    "    result = results[0]\n",
    "    boxes = result.boxes\n",
    "\n",
    "    prediction_string = \"\"\n",
    "    for box in boxes:\n",
    "        x1, y1, x2, y2 = box.xyxy[0].tolist()\n",
    "        prediction_string += f\"Player 1.0 {x1:.1f} {y1:.1f} {x2:.1f} {y2:.1f} \"\n",
    "    \n",
    "    return prediction_string.strip()\n",
    "\n",
    "# Ajout du chemin ./valid/ + calcul des predictions\n",
    "prediction_strings = []\n",
    "for image_id in tqdm(df['image_id']):\n",
    "    image_path = f'C:/Users/PC/OneDrive/Documents/ia/test/football/valid/images/{image_id}.jpg'\n",
    "    pred_str = get_prediction_string(image_path)\n",
    "    prediction_strings.append(pred_str)\n",
    "\n",
    "# Ajouter la colonne au DataFrame\n",
    "df['prediction_string'] = prediction_strings\n",
    "\n",
    "# Sauvegarder le nouveau CSV\n",
    "df.to_csv('submission.csv', index=False)\n",
    "print(\"✅ Fichier 'submission.csv' généré avec succès.\")"
   ]
  }
 ],
 "metadata": {
  "language_info": {
   "name": "python"
  }
 },
 "nbformat": 4,
 "nbformat_minor": 5
}
